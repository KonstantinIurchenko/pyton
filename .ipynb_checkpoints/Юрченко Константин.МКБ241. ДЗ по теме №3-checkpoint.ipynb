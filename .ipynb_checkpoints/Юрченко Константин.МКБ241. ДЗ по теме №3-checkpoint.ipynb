{
 "cells": [
  {
   "cell_type": "markdown",
   "id": "778ad1b7-dd57-44fb-bb41-87a9f2f7fcf9",
   "metadata": {},
   "source": [
    "Задание 1 \n",
    " Напишите код на Python для решения следующей задачи.\n",
    " Реализуйте функциюsum_distance(from, to),которая суммирует все числа от\n",
    " значения from довеличины to включительно.\n",
    " Примечание.Если пользователь задаст первое число,которое окажется\n",
    " больше второго, просто поменяйте их местами."
   ]
  },
  {
   "cell_type": "code",
   "execution_count": null,
   "id": "a96e2b3c-932f-45bf-a9b0-7a318b430761",
   "metadata": {
    "scrolled": true
   },
   "outputs": [],
   "source": [
    "print(\"Введите первое число: \")\n",
    "first = int(input())\n",
    "print(\"Введите второе число: \")\n",
    "second = int(input())\n",
    "def sum_distance(first, second):\n",
    "    total = 0\n",
    "    if (first > second):\n",
    "        second_new = first\n",
    "        first_new = second\n",
    "        for i in range(first_new,second_new + 1):\n",
    "            total += i\n",
    "    else:\n",
    "        for i in range(first,second + 1):\n",
    "            total += i\n",
    "    print(f'Результат:{total}')\n",
    "sum_distance(first, second) "
   ]
  },
  {
   "cell_type": "markdown",
   "id": "ff4bb8fb-4037-4e1b-b565-2a2ec744cac5",
   "metadata": {},
   "source": [
    "Задание 2\n",
    "  Напишите код на Python для решения следующей задачи.\n",
    " Реализуйте функцию trim_and_repeat(), которая принимает три параметра:\n",
    " ● строку;\n",
    " ● offset — число символов, на которое нужно обрезать строку слева;\n",
    " ● repetitions — сколько раз нужно повторить строку перед возвратом\n",
    " получившейся строки.\n",
    " Число символов для среза по умолчанию равно 0, а количество повторений —\n",
    " 1.\n",
    " Функция должна возвращать полученную строку.\n"
   ]
  },
  {
   "cell_type": "code",
   "execution_count": 34,
   "id": "aa115218-e7cc-4334-ac87-40fbd33fe9d5",
   "metadata": {},
   "outputs": [
    {
     "name": "stdout",
     "output_type": "stream",
     "text": [
      "Введите строку: \n"
     ]
    },
    {
     "name": "stdin",
     "output_type": "stream",
     "text": [
      " pyton\n"
     ]
    },
    {
     "name": "stdout",
     "output_type": "stream",
     "text": [
      "Введите число на которое нужно обрезать строку слева: \n"
     ]
    },
    {
     "name": "stdin",
     "output_type": "stream",
     "text": [
      " 2\n"
     ]
    },
    {
     "name": "stdout",
     "output_type": "stream",
     "text": [
      "Введите число,сколько раз нужно повторить строку: \n"
     ]
    },
    {
     "name": "stdin",
     "output_type": "stream",
     "text": [
      " 3\n"
     ]
    },
    {
     "name": "stdout",
     "output_type": "stream",
     "text": [
      "Новая строка: tontonton\n"
     ]
    }
   ],
   "source": [
    "print(\"Введите строку: \")\n",
    "string = input()\n",
    "print(\"Введите число на которое нужно обрезать строку слева: \")\n",
    "offset = int(input())\n",
    "print(\"Введите число,сколько раз нужно повторить строку: \")\n",
    "repetitions = int(input())\n",
    "def trim_and_repeat(string, offset, repetitions):\n",
    "    offset_string = string[offset:]\n",
    "    repetitions_offset_string = offset_string*repetitions\n",
    "    print (f'Новая строка: {repetitions_offset_string}')\n",
    "trim_and_repeat(string, offset, repetitions)  "
   ]
  },
  {
   "cell_type": "code",
   "execution_count": null,
   "id": "182ab3fb-e56a-4c7e-baec-0d3bcbc1c5d9",
   "metadata": {},
   "outputs": [],
   "source": []
  }
 ],
 "metadata": {
  "kernelspec": {
   "display_name": "Python 3 (ipykernel)",
   "language": "python",
   "name": "python3"
  },
  "language_info": {
   "codemirror_mode": {
    "name": "ipython",
    "version": 3
   },
   "file_extension": ".py",
   "mimetype": "text/x-python",
   "name": "python",
   "nbconvert_exporter": "python",
   "pygments_lexer": "ipython3",
   "version": "3.12.7"
  }
 },
 "nbformat": 4,
 "nbformat_minor": 5
}
