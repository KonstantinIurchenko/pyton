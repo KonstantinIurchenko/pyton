{
 "cells": [
  {
   "cell_type": "markdown",
   "id": "778ad1b7-dd57-44fb-bb41-87a9f2f7fcf9",
   "metadata": {},
   "source": [
    "Задание 1 \n",
    " Печатные газеты использовали свой формат дат для каждого выпуска.Для каждой\n",
    " газеты из списка напишите формат указанной даты для перевода в объект datetime:\n",
    " The Moscow Times - Wednesday, October2,2002\n",
    " The Guardian - Friday,11.10.13\n",
    " Daily News - Thursday, 18 August 1977"
   ]
  },
  {
   "cell_type": "code",
   "execution_count": 43,
   "id": "a96e2b3c-932f-45bf-a9b0-7a318b430761",
   "metadata": {
    "scrolled": true
   },
   "outputs": [
    {
     "name": "stdout",
     "output_type": "stream",
     "text": [
      "2002-10-02 00:00:00 <class 'datetime.datetime'>\n",
      "2013-10-11 00:00:00 <class 'datetime.datetime'>\n",
      "1977-08-18 00:00:00 <class 'datetime.datetime'>\n"
     ]
    }
   ],
   "source": [
    "import datetime\n",
    "from datetime import datetime\n",
    "date_string_1 = 'Wednesday, October 2, 2002'\n",
    "date_string_2 = 'Friday, 11.10.13'\n",
    "date_string_3 = 'Thursday, 18 August 1977'\n",
    "datetime_1 = datetime.strptime(date_string_1, '%A, %B %d, %Y')\n",
    "datetime_2 = datetime.strptime(date_string_2, '%A, %d.%m.%y')\n",
    "datetime_3 = datetime.strptime(date_string_3, '%A, %d %B %Y')\n",
    "print(datetime_1, type(datetime_1)) \n",
    "print(datetime_2, type(datetime_2)) \n",
    "print(datetime_3, type(datetime_3)) "
   ]
  },
  {
   "cell_type": "markdown",
   "id": "ff4bb8fb-4037-4e1b-b565-2a2ec744cac5",
   "metadata": {},
   "source": [
    "Задание 2 (необязательное)\n",
    "  Напишите функцию date_range,которая возвращает список дат за период от start_date\n",
    " до end_date.Даты должны вводиться в формате YYYY-MM-DD.В случае неверного\n",
    " формата или при start_date > end_date должен вовращаться пустой список."
   ]
  },
  {
   "cell_type": "code",
   "execution_count": null,
   "id": "20897e0b-8df2-4b03-891c-5046f9ed2ada",
   "metadata": {},
   "outputs": [],
   "source": [
    "import datetime\n",
    "from datetime import datetime\n",
    "from datetime import timedelta\n",
    "start_date = input('Введите первую дату в формате YYYY-MM-DD : ') \n",
    "end_date = input('Введите вторую дату в формате YYYY-MM-DD : ')\n",
    "date_list = []\n",
    "def date_range(start_date, end_date):\n",
    "      try:\n",
    "          start_date_datetime = datetime.strptime(start_date, '%Y-%m-%d')\n",
    "          end_date_datetime = datetime.strptime(end_date, '%Y-%m-%d')\n",
    "          if (start_date_datetime > end_date_datetime):\n",
    "              print ('Вторая дата должна быть раньше первой!!!') \n",
    "          while start_date_datetime <= end_date_datetime:\n",
    "              date = start_date_datetime.strftime('%Y-%m-%d')\n",
    "              start_date_datetime =  start_date_datetime + timedelta(days = 1)\n",
    "              date_list.append(date)\n",
    "      except:\n",
    "          print ('Вы ввели даты в неверном формате!!!')\n",
    "date_range(start_date, end_date)\n",
    "print(date_list)"
   ]
  },
  {
   "cell_type": "code",
   "execution_count": null,
   "id": "9c0c3a63-5b8d-4572-a628-f152b2766884",
   "metadata": {},
   "outputs": [],
   "source": []
  }
 ],
 "metadata": {
  "kernelspec": {
   "display_name": "Python 3 (ipykernel)",
   "language": "python",
   "name": "python3"
  },
  "language_info": {
   "codemirror_mode": {
    "name": "ipython",
    "version": 3
   },
   "file_extension": ".py",
   "mimetype": "text/x-python",
   "name": "python",
   "nbconvert_exporter": "python",
   "pygments_lexer": "ipython3",
   "version": "3.12.7"
  }
 },
 "nbformat": 4,
 "nbformat_minor": 5
}
