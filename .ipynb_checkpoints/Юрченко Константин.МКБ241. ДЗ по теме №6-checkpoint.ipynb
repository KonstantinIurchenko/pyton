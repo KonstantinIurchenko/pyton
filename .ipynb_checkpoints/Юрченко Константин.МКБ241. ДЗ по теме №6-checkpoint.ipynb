{
 "cells": [
  {
   "cell_type": "markdown",
   "id": "778ad1b7-dd57-44fb-bb41-87a9f2f7fcf9",
   "metadata": {},
   "source": [
    "Задание 1 \n",
    " Нужно реализовать класс Account, который отражает абстракцию базового\n",
    " поведения банковского аккаунта:\n",
    " ● создать банковский аккаунт с параметрами: имя; стартовый баланс с\n",
    " которым зарегистрирован аккаунт; история операций*;\n",
    " ● реализовать два метода, которые позволяют положить деньги на счёт\n",
    " или снять деньги со счёта;\n",
    " ● продумать, как можно хранить историю поступления или снятия\n",
    " денег, чтобы с ней было удобно работать*.\n",
    " *Задачи повышенной сложности на 9 и 10 баллов"
   ]
  },
  {
   "cell_type": "code",
   "execution_count": null,
   "id": "e5f98a5a-8239-4ff0-80c5-50f23d1f521c",
   "metadata": {
    "scrolled": true
   },
   "outputs": [],
   "source": [
    "class Account:\n",
    "    def __init__(self, name, balance):\n",
    "        self.name = name\n",
    "        self.balance = balance\n",
    "        print(f'У \"{self.name}\" на счете {self.balance} денег')\n",
    "    def up_balance(self, up_amount):\n",
    "        self.up_amount = up_amount\n",
    "        self.balance += self.up_amount\n",
    "     #   az = int(self.balance)\n",
    "        print(f'Остаток на счете {self.balance} денег')\n",
    "    #    return self.balance\n",
    "    def down_balance(self, down_amount):\n",
    "        self.down_amount = down_amount\n",
    "        self.balance -= self.down_amount\n",
    "        if (self.balance < 0):\n",
    "            print(f'\"{self.name}\" указанная сумма не доступна для снятия!')\n",
    "        else:\n",
    "            print(f'Остаток на счете {self.balance} денег')\n",
    "    #  return self.balance\n",
    "name = input('Введите имя клиента: ')\n",
    "start_balance = int(input('Введите стартовый баланс клиента: '))\n",
    "client_name = Account(name, start_balance)\n",
    "# az = balance\n",
    "up_balance = int(input(f'Введите сколько денег {name} положил на счет: '))\n",
    "client_name.up_balance(up_balance)\n",
    "# az = balance\n",
    "down_balance = int(input(f'Введите сколько денег {name} снял со счета: '))\n",
    "client_name.down_balance(down_balance)\n",
    "my_file = open(\"История_операций.txt\", \"w+\", encoding='utf-8')\n",
    "my_file.write(f'Стартовый баланс клиента \"{name}\" - {start_balance} денег\\n')\n",
    "my_file.write(f'Клиент \"{name}\" произвел операцию  пополнения на {up_balance} денег, остаток на счете составляет - {start_balance+up_balance}\\n')\n",
    "if (start_balance+up_balance-down_balance >= 0):\n",
    "    my_file.write(f'Клиент \"{name}\" произвел операцию  снятия на {down_balance} денег, остаток на счете составляет - {start_balance+up_balance-down_balance}\\n\\n')\n",
    "else:\n",
    "    my_file.write(f'Указанная сумма {down_balance} не доступна для снятия, остаток на счете составляет - {start_balance+up_balance}\\n')\n",
    "my_file.close()"
   ]
  },
  {
   "cell_type": "code",
   "execution_count": null,
   "id": "7baa3c5a-bfb1-4eee-aae3-7dc7a3f2eedc",
   "metadata": {},
   "outputs": [],
   "source": []
  }
 ],
 "metadata": {
  "kernelspec": {
   "display_name": "Python 3 (ipykernel)",
   "language": "python",
   "name": "python3"
  },
  "language_info": {
   "codemirror_mode": {
    "name": "ipython",
    "version": 3
   },
   "file_extension": ".py",
   "mimetype": "text/x-python",
   "name": "python",
   "nbconvert_exporter": "python",
   "pygments_lexer": "ipython3",
   "version": "3.12.7"
  }
 },
 "nbformat": 4,
 "nbformat_minor": 5
}
