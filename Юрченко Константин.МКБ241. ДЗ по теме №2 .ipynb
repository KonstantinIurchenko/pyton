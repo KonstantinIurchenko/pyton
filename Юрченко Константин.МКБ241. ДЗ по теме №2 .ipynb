{
 "cells": [
  {
   "cell_type": "markdown",
   "id": "778ad1b7-dd57-44fb-bb41-87a9f2f7fcf9",
   "metadata": {},
   "source": [
    "Задание 1"
   ]
  },
  {
   "cell_type": "code",
   "execution_count": 6,
   "id": "a96e2b3c-932f-45bf-a9b0-7a318b430761",
   "metadata": {},
   "outputs": [
    {
     "name": "stdout",
     "output_type": "stream",
     "text": [
      "Ведите слово:\n"
     ]
    },
    {
     "name": "stdout",
     "output_type": "stream",
     "text": [
      " dfhdfhgj\n"
     ]
    },
    {
     "name": "stdout",
     "output_type": "stream",
     "text": [
      "df - средние буквы\n"
     ]
    }
   ],
   "source": [
    "print ('Введите слово:')\n",
    "vvedeno_slovo = input()\n",
    "dlina_slova = len(vvedeno_slovo)\n",
    "pervaya_bukva = int (dlina_slova // 2 - 1)\n",
    "vtoraya_bukva = int (dlina_slova // 2 )\n",
    "if (dlina_slova % 2) == 0 :\n",
    "    print(vvedeno_slovo [pervaya_bukva] + vvedeno_slovo [vtoraya_bukva] + \" - средние буквы\")\n",
    "else:\n",
    "    print(vvedeno_slovo [pervaya_bukva] + \" - средняя буква\")"
   ]
  },
  {
   "cell_type": "markdown",
   "id": "ff4bb8fb-4037-4e1b-b565-2a2ec744cac5",
   "metadata": {},
   "source": [
    " Задание 2 (необязательное) - с самомтоятельным вводом данных"
   ]
  },
  {
   "cell_type": "code",
   "execution_count": null,
   "id": "b6446817-e945-45b5-8d67-919d1588dd72",
   "metadata": {},
   "outputs": [],
   "source": [
    "print('Введите имена парней через пробел, по завершении нажмите Enter')\n",
    "boys = input()\n",
    "list_boys = boys.split()\n",
    "sort_boys = sorted(list_boys)\n",
    "print('Введите имена девушек через пробел, по завершении нажмите Enter')\n",
    "girls = input()\n",
    "list_girls = girls.split()\n",
    "sort_girls = sorted(list_girls)\n",
    "print(\"===================\")\n",
    "# boys = ['Peter', 'Alex', 'John', 'Arthur', 'Richard']\n",
    "# girls = ['Kate', 'Liza', 'Kira', 'Emma', 'Trisha']\n",
    "# kolichestvo_boys = len(boys)\n",
    "# kolichestvo_girls = len(girls)\n",
    "ideal_pair = zip(sort_boys, sort_girls)\n",
    "list_pair = list(ideal_pair)\n",
    "kolichestvo_boys = len(list_boys)\n",
    "kolichestvo_girls = len(list_girls)\n",
    "if kolichestvo_boys != kolichestvo_girls:\n",
    "    print('Результат: Внимание, кто-то может остаться без пары!')\n",
    "else:\n",
    "    print('Результат:')\n",
    "    print('Идеальные пары:')\n",
    "    for ideal_pair1 in list_pair:\n",
    "       print(ideal_pair1[0], ideal_pair1[1])"
   ]
  },
  {
   "cell_type": "markdown",
   "id": "2fd8cd62-a270-49f3-a0cd-f49bbca177e3",
   "metadata": {},
   "source": [
    "Задание 2 (необязательное) - для всех есть пара "
   ]
  },
  {
   "cell_type": "code",
   "execution_count": null,
   "id": "27c27cec-d2b7-4836-9da0-82f4d38988d6",
   "metadata": {},
   "outputs": [],
   "source": [
    "boys = ['Peter', 'Alex', 'John', 'Arthur', 'Richard']\n",
    "girls = ['Kate', 'Liza', 'Kira', 'Emma', 'Trisha']\n",
    "kolichestvo_boys = len(boys)\n",
    "kolichestvo_girls = len(girls)\n",
    "ideal_pair = zip(sorted(boys), sorted(girls))\n",
    "list_pair = list(ideal_pair)\n",
    "if kolichestvo_boys != kolichestvo_girls:\n",
    "    print('Результат: Внимание, кто-то может остаться без пары!')\n",
    "else:\n",
    "    print('Результат:')\n",
    "    print('Идеальные пары:')\n",
    "    for ideal_pair1 in list_pair:\n",
    "       print(ideal_pair1[0], ideal_pair1[1])"
   ]
  },
  {
   "cell_type": "markdown",
   "id": "0a5986c6-264e-4078-b221-fbb4555edb9f",
   "metadata": {},
   "source": [
    "Задание 2 (необязательное) -  не для всех есть пара "
   ]
  },
  {
   "cell_type": "code",
   "execution_count": null,
   "id": "28eb8a00-a6b7-4a84-8346-0a66031b2b08",
   "metadata": {},
   "outputs": [],
   "source": [
    "boys = ['Peter', 'Alex', 'John', 'Arthur', 'Richard']\n",
    "girls = ['Kate', 'Liza', 'Kira', 'Emma']\n",
    "kolichestvo_boys = len(boys)\n",
    "kolichestvo_girls = len(girls)\n",
    "ideal_pair = zip(sorted(boys), sorted(girls))\n",
    "list_pair = list(ideal_pair)\n",
    "if kolichestvo_boys != kolichestvo_girls:\n",
    "    print('Результат: Внимание, кто-то может остаться без пары!')\n",
    "else:\n",
    "    print('Результат:')\n",
    "    print('Идеальные пары:')\n",
    "    for ideal_pair1 in list_pair:\n",
    "       print(ideal_pair1[0], ideal_pair1[1])"
   ]
  },
  {
   "cell_type": "code",
   "execution_count": null,
   "id": "4178106b-cf8d-480d-b327-3eba2d2f722d",
   "metadata": {},
   "outputs": [],
   "source": []
  }
 ],
 "metadata": {
  "kernelspec": {
   "display_name": "Python 3 (ipykernel)",
   "language": "python",
   "name": "python3"
  },
  "language_info": {
   "codemirror_mode": {
    "name": "ipython",
    "version": 3
   },
   "file_extension": ".py",
   "mimetype": "text/x-python",
   "name": "python",
   "nbconvert_exporter": "python",
   "pygments_lexer": "ipython3",
   "version": "3.12.7"
  }
 },
 "nbformat": 4,
 "nbformat_minor": 5
}
