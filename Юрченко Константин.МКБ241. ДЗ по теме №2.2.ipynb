{
 "cells": [
  {
   "cell_type": "markdown",
   "id": "778ad1b7-dd57-44fb-bb41-87a9f2f7fcf9",
   "metadata": {},
   "source": [
    "Задание 1 \n",
    " Написать код на Python в среде Jupyter Notebook для решения следующей задачи.\n",
    " Дана переменная,вкоторой хранится словарь,содержащий гео-метки дляк аждого\n",
    "пользователя (пример структуры данных приведен ниже). Вам необходимо написать\n",
    " программу, которая выведет на экран множество уникальных гео-меток всех пользователей"
   ]
  },
  {
   "cell_type": "code",
   "execution_count": 14,
   "id": "a96e2b3c-932f-45bf-a9b0-7a318b430761",
   "metadata": {
    "scrolled": true
   },
   "outputs": [
    {
     "name": "stdout",
     "output_type": "stream",
     "text": [
      "{98, 35, 15, 213, 54, 119}\n"
     ]
    }
   ],
   "source": [
    " ids = {'user1': [213, 213, 213, 15, 213],\n",
    " 'user2': [54, 54, 119, 119, 119],\n",
    " 'user3': [213, 98, 98, 35]}\n",
    "geoteg_list = []\n",
    "for values in ids.values():\n",
    "    geoteg_list.extend(values)\n",
    "unique_geoteg = set(geoteg_list)\n",
    "print(unique_geoteg)"
   ]
  },
  {
   "cell_type": "markdown",
   "id": "ff4bb8fb-4037-4e1b-b565-2a2ec744cac5",
   "metadata": {},
   "source": [
    "Задание 2 (необязательное)\n",
    " Написать код на Python в среде Jupyter Notebook для решения следующей задачи.\n",
    " Дана переменная, в которой хранится список поисковых запросов пользователя (пример\n",
    " структуры данных приведен ниже). Вам необходимо написать программу, которая выведет на\n",
    " экран распределение количества слов в запросах в требуемом виде.\n"
   ]
  },
  {
   "cell_type": "code",
   "execution_count": 33,
   "id": "aa115218-e7cc-4334-ac87-40fbd33fe9d5",
   "metadata": {
    "scrolled": true
   },
   "outputs": [
    {
     "name": "stdout",
     "output_type": "stream",
     "text": [
      "Количество запросов: 7\n",
      "3\n",
      "4\n",
      "Поисковых запросов, содержащих 2 слов(а): 42.86%\n",
      "Поисковых запросов, содержащих 3 слов(а): 57.14%\n"
     ]
    }
   ],
   "source": [
    "queries = [\n",
    " 'смотреть сериалы онлайн',\n",
    " 'новости спорта',\n",
    " 'афиша кино',\n",
    " 'курс доллара',\n",
    " 'сериалы этим летом',\n",
    " 'курс по питону',\n",
    " 'сериалы про спорт',\n",
    " ]\n",
    "word_count_2 = 0\n",
    "word_count_3 = 0\n",
    "len_queries = len(queries)\n",
    "print(f'Количество запросов: {len_queries}')\n",
    "for item in queries:\n",
    "    word_count = len(item.split())\n",
    "    if (word_count == 2):\n",
    "        word_count_2 += 1\n",
    "    else:\n",
    "        word_count_3 += 1\n",
    "print(word_count_2)\n",
    "print(word_count_3)\n",
    "quary_2 = word_count_2 / len_queries *100\n",
    "quary_2 = round(quary_2, 2)\n",
    "quary_3 = word_count_3 / len_queries *100\n",
    "quary_3 = round(quary_3, 2)\n",
    "\n",
    "print(f'Поисковых запросов, содержащих 2 слов(а): {quary_2}%')\n",
    "print(f'Поисковых запросов, содержащих 3 слов(а): {quary_3}%')"
   ]
  },
  {
   "cell_type": "code",
   "execution_count": null,
   "id": "47053f1f-9177-49d4-84ff-f1db8a3b82f5",
   "metadata": {},
   "outputs": [],
   "source": []
  }
 ],
 "metadata": {
  "kernelspec": {
   "display_name": "Python 3 (ipykernel)",
   "language": "python",
   "name": "python3"
  },
  "language_info": {
   "codemirror_mode": {
    "name": "ipython",
    "version": 3
   },
   "file_extension": ".py",
   "mimetype": "text/x-python",
   "name": "python",
   "nbconvert_exporter": "python",
   "pygments_lexer": "ipython3",
   "version": "3.12.7"
  }
 },
 "nbformat": 4,
 "nbformat_minor": 5
}
