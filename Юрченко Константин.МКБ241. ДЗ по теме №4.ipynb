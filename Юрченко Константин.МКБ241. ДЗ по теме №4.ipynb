{
 "cells": [
  {
   "cell_type": "markdown",
   "id": "778ad1b7-dd57-44fb-bb41-87a9f2f7fcf9",
   "metadata": {},
   "source": [
    "Задание 1 \n",
    " Переведите содержимое файла purchase_log.txt в словарь purchases вида:\n",
    " {'1840e0b9d4': 'Продукты', ...}"
   ]
  },
  {
   "cell_type": "code",
   "execution_count": null,
   "id": "a96e2b3c-932f-45bf-a9b0-7a318b430761",
   "metadata": {
    "scrolled": true
   },
   "outputs": [],
   "source": [
    "import json\n",
    "purchases = {}\n",
    "f = open('Downloads/purchase_log.txt', 'r', encoding='utf-8')\n",
    "content = f.readlines()\n",
    "f.close()\n",
    "content = sorted(content)    # сортировка применена потому, что в исходном текстовом файле в первом словаре, \n",
    "                             # где продукты, поменяны местами User_id и Category\n",
    "for item in content[1:int(input('Сколько элементов словаря нужно вывести: '))+1]: #  выывод данных начинается со второй строчки,\n",
    "                              # т.к. в первой строчке никакой полезной информации нет ({\"user_id\": \"user_id\", \"category\": \"category\"})\n",
    "    dict_1 = json.loads(item)\n",
    "    dict_2 = list(dict_1.values())\n",
    "    key = dict_2[0]\n",
    "    value = dict_2[1]\n",
    "    purchases[key] = value\n",
    "purchases"
   ]
  },
  {
   "cell_type": "markdown",
   "id": "ff4bb8fb-4037-4e1b-b565-2a2ec744cac5",
   "metadata": {},
   "source": [
    "Задание 2 (необязательное)\n",
    "  \n"
   ]
  }
 ],
 "metadata": {
  "kernelspec": {
   "display_name": "Python 3 (ipykernel)",
   "language": "python",
   "name": "python3"
  },
  "language_info": {
   "codemirror_mode": {
    "name": "ipython",
    "version": 3
   },
   "file_extension": ".py",
   "mimetype": "text/x-python",
   "name": "python",
   "nbconvert_exporter": "python",
   "pygments_lexer": "ipython3",
   "version": "3.12.7"
  }
 },
 "nbformat": 4,
 "nbformat_minor": 5
}
